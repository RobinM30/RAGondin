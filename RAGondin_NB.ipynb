{
 "cells": [
  {
   "cell_type": "code",
   "execution_count": 1,
   "id": "0756f304-e579-49ad-ba4c-05a12004495e",
   "metadata": {},
   "outputs": [],
   "source": [
    "!pip install -q torch transformers accelerate bitsandbytes transformers sentence-transformers faiss-gpu"
   ]
  },
  {
   "cell_type": "code",
   "execution_count": 2,
   "id": "63782587-9d8f-4758-a67f-db2860b79425",
   "metadata": {},
   "outputs": [],
   "source": [
    "!pip install -q langchain"
   ]
  },
  {
   "cell_type": "code",
   "execution_count": 3,
   "id": "766510e6-8725-49a5-bd54-e236c28b237a",
   "metadata": {},
   "outputs": [
    {
     "name": "stdout",
     "output_type": "stream",
     "text": [
      "Requirement already satisfied: pypdf in ./anaconda3/lib/python3.10/site-packages (4.1.0)\n",
      "Requirement already satisfied: rapidocr-onnxruntime in ./anaconda3/lib/python3.10/site-packages (1.3.15)\n",
      "Requirement already satisfied: onnxruntime>=1.7.0 in ./anaconda3/lib/python3.10/site-packages (from rapidocr-onnxruntime) (1.16.3)\n",
      "Requirement already satisfied: Pillow in ./anaconda3/lib/python3.10/site-packages (from rapidocr-onnxruntime) (9.4.0)\n",
      "Requirement already satisfied: six>=1.15.0 in ./anaconda3/lib/python3.10/site-packages (from rapidocr-onnxruntime) (1.16.0)\n",
      "Requirement already satisfied: Shapely>=1.7.1 in ./anaconda3/lib/python3.10/site-packages (from rapidocr-onnxruntime) (2.0.3)\n",
      "Requirement already satisfied: PyYAML in ./anaconda3/lib/python3.10/site-packages (from rapidocr-onnxruntime) (6.0.1)\n",
      "Requirement already satisfied: pyclipper>=1.2.0 in ./anaconda3/lib/python3.10/site-packages (from rapidocr-onnxruntime) (1.3.0.post5)\n",
      "Requirement already satisfied: numpy>=1.19.5 in ./anaconda3/lib/python3.10/site-packages (from rapidocr-onnxruntime) (1.26.4)\n",
      "Requirement already satisfied: opencv-python>=4.5.1.48 in ./anaconda3/lib/python3.10/site-packages (from rapidocr-onnxruntime) (4.9.0.80)\n",
      "Requirement already satisfied: protobuf in ./.local/lib/python3.10/site-packages (from onnxruntime>=1.7.0->rapidocr-onnxruntime) (4.23.3)\n",
      "Requirement already satisfied: coloredlogs in ./anaconda3/lib/python3.10/site-packages (from onnxruntime>=1.7.0->rapidocr-onnxruntime) (15.0.1)\n",
      "Requirement already satisfied: packaging in ./anaconda3/lib/python3.10/site-packages (from onnxruntime>=1.7.0->rapidocr-onnxruntime) (23.2)\n",
      "Requirement already satisfied: sympy in ./anaconda3/lib/python3.10/site-packages (from onnxruntime>=1.7.0->rapidocr-onnxruntime) (1.11.1)\n",
      "Requirement already satisfied: flatbuffers in ./anaconda3/lib/python3.10/site-packages (from onnxruntime>=1.7.0->rapidocr-onnxruntime) (23.5.26)\n",
      "Requirement already satisfied: humanfriendly>=9.1 in ./anaconda3/lib/python3.10/site-packages (from coloredlogs->onnxruntime>=1.7.0->rapidocr-onnxruntime) (10.0)\n",
      "Requirement already satisfied: mpmath>=0.19 in ./anaconda3/lib/python3.10/site-packages/mpmath-1.2.1-py3.10.egg (from sympy->onnxruntime>=1.7.0->rapidocr-onnxruntime) (1.2.1)\n",
      "Requirement already satisfied: pdf2image in ./anaconda3/lib/python3.10/site-packages (1.17.0)\n",
      "Requirement already satisfied: pillow in ./anaconda3/lib/python3.10/site-packages (from pdf2image) (9.4.0)\n",
      "Requirement already satisfied: pdfminer in ./anaconda3/lib/python3.10/site-packages (20191125)\n",
      "Requirement already satisfied: pycryptodome in ./anaconda3/lib/python3.10/site-packages (from pdfminer) (3.20.0)\n",
      "Requirement already satisfied: pdfminer-six in ./anaconda3/lib/python3.10/site-packages (20231228)\n",
      "Requirement already satisfied: charset-normalizer>=2.0.0 in ./anaconda3/lib/python3.10/site-packages (from pdfminer-six) (2.0.4)\n",
      "Requirement already satisfied: cryptography>=36.0.0 in ./anaconda3/lib/python3.10/site-packages (from pdfminer-six) (39.0.1)\n",
      "Requirement already satisfied: cffi>=1.12 in ./anaconda3/lib/python3.10/site-packages (from cryptography>=36.0.0->pdfminer-six) (1.15.1)\n",
      "Requirement already satisfied: pycparser in ./anaconda3/lib/python3.10/site-packages (from cffi>=1.12->cryptography>=36.0.0->pdfminer-six) (2.21)\n"
     ]
    }
   ],
   "source": [
    "!pip install pypdf\n",
    "!pip install rapidocr-onnxruntime\n",
    "!pip install pdf2image\n",
    "!pip install pdfminer\n",
    "!pip install pdfminer-six"
   ]
  },
  {
   "cell_type": "code",
   "execution_count": 4,
   "id": "316b77f4-277e-4fcf-a71b-0091a4993ada",
   "metadata": {},
   "outputs": [
    {
     "name": "stdout",
     "output_type": "stream",
     "text": [
      "Requirement already satisfied: pypdfium2 in ./anaconda3/lib/python3.10/site-packages (4.28.0)\n"
     ]
    }
   ],
   "source": [
    "!pip install pypdfium2"
   ]
  },
  {
   "cell_type": "code",
   "execution_count": 5,
   "id": "307f3fa6-fa4b-46ce-98e1-a9ccd929d64c",
   "metadata": {},
   "outputs": [],
   "source": [
    "from langchain_community.document_loaders import PyPDFLoader\n",
    "from langchain_community.document_loaders import UnstructuredPDFLoader\n",
    "from langchain_community.document_loaders import PyPDFium2Loader\n",
    "from langchain_community.document_loaders import PDFMinerPDFasHTMLLoader\n",
    "\n",
    "\n",
    "\n",
    "\n",
    "loader = PyPDFLoader(\"workspace/Robin/test_data/regles_MESBG.pdf\")\n",
    "#loader = PyPDFLoader(\"workspace/Robin/test_data/regles_MESBG.pdf\")\n",
    "docs = loader.load_and_split()"
   ]
  },
  {
   "cell_type": "code",
   "execution_count": 6,
   "id": "07ad11a5-f426-4e57-a3ad-91a539536e6c",
   "metadata": {},
   "outputs": [
    {
     "data": {
      "text/plain": [
       "Document(page_content='1\\nLe Grand Livre \\nd e Règles\\nd e la Terre d u Milieu', metadata={'source': 'workspace/Robin/test_data/regles_MESBG.pdf', 'page': 0})"
      ]
     },
     "execution_count": 6,
     "metadata": {},
     "output_type": "execute_result"
    }
   ],
   "source": [
    "docs[0]"
   ]
  },
  {
   "cell_type": "raw",
   "id": "679cd232-f28b-46e8-b6a7-9d1319d538dc",
   "metadata": {},
   "source": [
    "from langchain.document_loaders import HuggingFaceDatasetLoader\n",
    "dataset_name = \"databricks/databricks-dolly-15k\"\n",
    "\n",
    "page_content_column = \"context\"  # or any other column you're interested in\n",
    "\n",
    "# Create a loader instance\n",
    "loader = HuggingFaceDatasetLoader(dataset_name, page_content_column)\n",
    "\n",
    "# Load the data\n",
    "docs = loader.load()"
   ]
  },
  {
   "cell_type": "code",
   "execution_count": 7,
   "id": "2645a624-c7d0-4a62-940f-69f7be2e893d",
   "metadata": {},
   "outputs": [],
   "source": [
    "from langchain.text_splitter import RecursiveCharacterTextSplitter\n",
    "\n",
    "splitter = RecursiveCharacterTextSplitter(chunk_size=512, chunk_overlap=30)\n",
    "\n",
    "chunked_docs = splitter.split_documents(docs)"
   ]
  },
  {
   "cell_type": "code",
   "execution_count": 8,
   "id": "282232f9-f65e-4b9c-9589-01013186fb4e",
   "metadata": {},
   "outputs": [
    {
     "name": "stdout",
     "output_type": "stream",
     "text": [
      "Requirement already satisfied: numpy in ./anaconda3/lib/python3.10/site-packages (1.26.4)\n"
     ]
    }
   ],
   "source": [
    "!pip install -U numpy"
   ]
  },
  {
   "cell_type": "code",
   "execution_count": 9,
   "id": "a58de162-aa9f-4696-8755-7f08ad7b6d69",
   "metadata": {},
   "outputs": [],
   "source": [
    "!export MKL_SERVICE_FORCE_INTEL=1"
   ]
  },
  {
   "cell_type": "code",
   "execution_count": 10,
   "id": "808aa922-9110-4351-9db1-692bd325668d",
   "metadata": {},
   "outputs": [
    {
     "name": "stderr",
     "output_type": "stream",
     "text": [
      "/home/linagora/anaconda3/lib/python3.10/site-packages/transformers/utils/generic.py:485: UserWarning: torch.utils._pytree._register_pytree_node is deprecated. Please use torch.utils._pytree.register_pytree_node instead.\n",
      "  _torch_pytree._register_pytree_node(\n",
      "/home/linagora/anaconda3/lib/python3.10/site-packages/transformers/utils/generic.py:342: UserWarning: torch.utils._pytree._register_pytree_node is deprecated. Please use torch.utils._pytree.register_pytree_node instead.\n",
      "  _torch_pytree._register_pytree_node(\n",
      "/home/linagora/anaconda3/lib/python3.10/site-packages/transformers/utils/generic.py:342: UserWarning: torch.utils._pytree._register_pytree_node is deprecated. Please use torch.utils._pytree.register_pytree_node instead.\n",
      "  _torch_pytree._register_pytree_node(\n",
      "/home/linagora/anaconda3/lib/python3.10/site-packages/transformers/utils/generic.py:485: UserWarning: torch.utils._pytree._register_pytree_node is deprecated. Please use torch.utils._pytree.register_pytree_node instead.\n",
      "  _torch_pytree._register_pytree_node(\n",
      "/home/linagora/anaconda3/lib/python3.10/site-packages/transformers/utils/generic.py:342: UserWarning: torch.utils._pytree._register_pytree_node is deprecated. Please use torch.utils._pytree.register_pytree_node instead.\n",
      "  _torch_pytree._register_pytree_node(\n",
      "/home/linagora/anaconda3/lib/python3.10/site-packages/transformers/utils/generic.py:342: UserWarning: torch.utils._pytree._register_pytree_node is deprecated. Please use torch.utils._pytree.register_pytree_node instead.\n",
      "  _torch_pytree._register_pytree_node(\n"
     ]
    }
   ],
   "source": [
    "from langchain.vectorstores import FAISS\n",
    "from langchain.embeddings import HuggingFaceEmbeddings\n",
    "\n",
    "EMBEDDING_MODEL_NAME = \"thenlper/gte-small\"\n",
    "\n",
    "embedding_model = HuggingFaceEmbeddings(\n",
    "    model_name=EMBEDDING_MODEL_NAME,\n",
    "    multi_process=True,\n",
    "    model_kwargs={\"device\": \"cuda\"},\n",
    "    encode_kwargs={\"normalize_embeddings\": True},  # set True for cosine similarity\n",
    ")\n",
    "db = FAISS.from_documents(chunked_docs,embedding_model)"
   ]
  },
  {
   "cell_type": "code",
   "execution_count": 11,
   "id": "ee35523e-f379-4da7-8a99-1801aead2e26",
   "metadata": {},
   "outputs": [],
   "source": [
    "retriever = db.as_retriever(search_type=\"similarity\", search_kwargs={\"k\": 4})"
   ]
  },
  {
   "cell_type": "code",
   "execution_count": 12,
   "id": "79ca750d-a71b-4e9c-91c1-c4ca3be6aa56",
   "metadata": {},
   "outputs": [
    {
     "name": "stderr",
     "output_type": "stream",
     "text": [
      "`low_cpu_mem_usage` was None, now set to True since model is quantized.\n"
     ]
    },
    {
     "data": {
      "application/vnd.jupyter.widget-view+json": {
       "model_id": "f843ddcb105e423481224d4052e0179d",
       "version_major": 2,
       "version_minor": 0
      },
      "text/plain": [
       "Loading checkpoint shards:   0%|          | 0/3 [00:00<?, ?it/s]"
      ]
     },
     "metadata": {},
     "output_type": "display_data"
    },
    {
     "name": "stderr",
     "output_type": "stream",
     "text": [
      "You are calling `save_pretrained` to a 4-bit converted model, but your `bitsandbytes` version doesn't support it. If you want to save 4-bit models, make sure to have `bitsandbytes>=0.41.3` installed.\n"
     ]
    }
   ],
   "source": [
    "import torch\n",
    "from transformers import AutoTokenizer, AutoModelForCausalLM, BitsAndBytesConfig\n",
    "\n",
    "model_name = \"mistralai/Mistral-7B-Instruct-v0.2\"\n",
    "\n",
    "bnb_config = BitsAndBytesConfig(\n",
    "    load_in_4bit=True, bnb_4bit_use_double_quant=True, bnb_4bit_quant_type=\"nf4\", bnb_4bit_compute_dtype=torch.bfloat16\n",
    ")\n",
    "\n",
    "model = AutoModelForCausalLM.from_pretrained(model_name, quantization_config=bnb_config)\n",
    "tokenizer = AutoTokenizer.from_pretrained(model_name)"
   ]
  },
  {
   "cell_type": "code",
   "execution_count": 18,
   "id": "c8160872-2b42-48cf-a453-19c95195be26",
   "metadata": {},
   "outputs": [],
   "source": [
    "from langchain.llms import HuggingFacePipeline\n",
    "from langchain.prompts import PromptTemplate\n",
    "from transformers import pipeline\n",
    "from langchain_core.output_parsers import StrOutputParser\n",
    "\n",
    "text_generation_pipeline = pipeline(\n",
    "    model=model,\n",
    "    tokenizer=tokenizer,\n",
    "    task=\"text-generation\",\n",
    "    temperature=0.2,\n",
    "    do_sample=True,\n",
    "    repetition_penalty=1.1,\n",
    "    return_full_text=True,\n",
    "    max_new_tokens=2000,\n",
    ")\n",
    "\n",
    "llm = HuggingFacePipeline(pipeline=text_generation_pipeline)\n",
    "\n",
    "prompt_template = \"\"\"\n",
    "<|system|>\n",
    "\n",
    "ChatGPT\n",
    "Répondez à la question en fonction de vos connaissances. Utilisez le contexte suivant pour vous aider :\n",
    "{context}\n",
    "\n",
    "</s>\n",
    "<|user|>\n",
    "{question}\n",
    "</s>\n",
    "<|assistant|>\n",
    "\n",
    " \"\"\"\n",
    "\n",
    "prompt = PromptTemplate(\n",
    "    input_variables=[\"context\", \"question\"],\n",
    "    template=prompt_template,\n",
    ")\n",
    "\n",
    "llm_chain = prompt | llm | StrOutputParser()"
   ]
  },
  {
   "cell_type": "code",
   "execution_count": 19,
   "id": "c25ccdc5-3550-4255-afa1-ebb69b4046a3",
   "metadata": {},
   "outputs": [],
   "source": [
    "from langchain_core.runnables import RunnablePassthrough\n",
    "\n",
    "retriever = db.as_retriever()\n",
    "\n",
    "rag_chain = {\"context\": retriever, \"question\": RunnablePassthrough()} | llm_chain"
   ]
  },
  {
   "cell_type": "code",
   "execution_count": 23,
   "id": "5ccb22b5-ab57-4101-9e13-1003bfafe6af",
   "metadata": {},
   "outputs": [],
   "source": [
    "question = \"Quel sont les 4 phases de jeu du jeu Middle Earth Strategy Battle Game??\""
   ]
  },
  {
   "cell_type": "code",
   "execution_count": 24,
   "id": "8ec32703-9144-4318-b89c-6ef806c5dfdb",
   "metadata": {},
   "outputs": [
    {
     "name": "stderr",
     "output_type": "stream",
     "text": [
      "Setting `pad_token_id` to `eos_token_id`:2 for open-end generation.\n"
     ]
    },
    {
     "data": {
      "text/plain": [
       "\" The Middle-earth Strategy Battle Game, also known as Middle-earth: Shadow of War, is a tactical action role-playing video game developed by Monolith Productions and published by Warner Bros. Interactive Entertainment. While the game does have a campaign mode with different phases, it doesn't strictly follow a four-phase structure like some other games might. However, we can identify some key aspects or stages in the gameplay experience. Here are some elements that could be considered phases, although they may not be strictly linear:\\n\\n  1. **Exploration and Conquest**: This phase involves exploring the open world of Middle-earth, discovering new areas, and conquering strongholds to expand your army and influence.\\n   \\n  2. **War**: Once you've taken control of a stronghold, you must defend it from enemy attacks. This includes managing resources, training your army, and leading them into battle against enemy forces.\\n   \\n  3. **Forge Alliances**: Building relationships with other characters in the game can lead to powerful alliances. These allies can provide valuable support during battles and help advance your progress through the game.\\n   \\n  4. **Nemesis System**: A unique feature of Middle-earth: Shadow of War is the Nemesis System. This system allows enemies to grow and evolve over time, creating a dynamic and challenging experience. Defeating certain enemies can lead to significant progress in the game, such as unlocking new abilities or gaining access to new areas.\\n\\nRemember, these phases aren't strictly linear and can overlap throughout the game. For example, you might be exploring new areas while also defending your strongholds and building alliances.\""
      ]
     },
     "execution_count": 24,
     "metadata": {},
     "output_type": "execute_result"
    }
   ],
   "source": [
    "llm_chain.invoke({\"context\": \"\", \"question\": question})"
   ]
  },
  {
   "cell_type": "code",
   "execution_count": 25,
   "id": "0086365a-b0f1-495d-9b7c-9e99fd15d396",
   "metadata": {},
   "outputs": [
    {
     "name": "stderr",
     "output_type": "stream",
     "text": [
      "/home/linagora/anaconda3/lib/python3.10/site-packages/transformers/utils/generic.py:485: UserWarning: torch.utils._pytree._register_pytree_node is deprecated. Please use torch.utils._pytree.register_pytree_node instead.\n",
      "  _torch_pytree._register_pytree_node(\n",
      "/home/linagora/anaconda3/lib/python3.10/site-packages/transformers/utils/generic.py:342: UserWarning: torch.utils._pytree._register_pytree_node is deprecated. Please use torch.utils._pytree.register_pytree_node instead.\n",
      "  _torch_pytree._register_pytree_node(\n",
      "/home/linagora/anaconda3/lib/python3.10/site-packages/transformers/utils/generic.py:342: UserWarning: torch.utils._pytree._register_pytree_node is deprecated. Please use torch.utils._pytree.register_pytree_node instead.\n",
      "  _torch_pytree._register_pytree_node(\n",
      "Setting `pad_token_id` to `eos_token_id`:2 for open-end generation.\n"
     ]
    },
    {
     "data": {
      "text/plain": [
       "' The four phases of gameplay in Middle Earth Strategy Battle Game are as follows:\\n  1. **Phase de Déplacement**: Each player moves their figures according to their movement capabilities. And when one player has finished, the other player can do the same.\\n  2. **Phase de Tir**: Each player can make their figures with a shooting weapon shoot first, starting with the player who has initiative.\\n  3. **Phase de Combat**: All engaged figures must fight. The player with initiative decides the order of resolution of combats.\\n  4. **Phase de Fin**: All effects that end at the end of the turn are resolved, such as Paralysis, etc.'"
      ]
     },
     "execution_count": 25,
     "metadata": {},
     "output_type": "execute_result"
    }
   ],
   "source": [
    "rag_chain.invoke(question)"
   ]
  },
  {
   "cell_type": "code",
   "execution_count": null,
   "id": "e42a4eb7-243e-4577-b0d4-81dfe2ea824c",
   "metadata": {},
   "outputs": [],
   "source": []
  },
  {
   "cell_type": "code",
   "execution_count": null,
   "id": "caecb1f9-b100-46da-80f8-a4e3f2978526",
   "metadata": {},
   "outputs": [],
   "source": []
  },
  {
   "cell_type": "code",
   "execution_count": null,
   "id": "976de3af-e22b-4ae5-9389-3e596b45f29b",
   "metadata": {},
   "outputs": [],
   "source": []
  }
 ],
 "metadata": {
  "kernelspec": {
   "display_name": "Python 3 (ipykernel)",
   "language": "python",
   "name": "python3"
  },
  "language_info": {
   "codemirror_mode": {
    "name": "ipython",
    "version": 3
   },
   "file_extension": ".py",
   "mimetype": "text/x-python",
   "name": "python",
   "nbconvert_exporter": "python",
   "pygments_lexer": "ipython3",
   "version": "3.10.9"
  }
 },
 "nbformat": 4,
 "nbformat_minor": 5
}
